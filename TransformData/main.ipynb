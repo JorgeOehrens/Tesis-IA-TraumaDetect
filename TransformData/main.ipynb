{
 "cells": [
  {
   "cell_type": "code",
   "execution_count": 6,
   "metadata": {},
   "outputs": [
    {
     "name": "stdout",
     "output_type": "stream",
     "text": [
      "Archivo image_level_labels (1).csv transformado y guardado como image_level_labels (1)_20230830001400.xlsx\n",
      "Archivo train (1).csv transformado y guardado como train (1)_20230830001401.xlsx\n",
      "Archivo train_series_meta.csv transformado y guardado como train_series_meta_20230830001402.xlsx\n"
     ]
    }
   ],
   "source": [
    "import os\n",
    "import pandas as pd\n",
    "from datetime import datetime\n",
    "from openpyxl import Workbook\n",
    "\n",
    "csv_folder = \"./docsCsv/\"\n",
    "\n",
    "excel_folder = \"./docsExs/\"\n",
    "\n",
    "csv_files = []\n",
    "\n",
    "for filename in os.listdir(csv_folder):\n",
    "    if filename.endswith(\".csv\"):\n",
    "        csv_files.append(filename)\n",
    "\n",
    "for csv_file in csv_files:\n",
    "    csv_path = os.path.join(csv_folder, csv_file)\n",
    "    df = pd.read_csv(csv_path)\n",
    "    wb = Workbook()\n",
    "    ws = wb.active\n",
    "    ws.append(df.columns.tolist())\n",
    "    for index, row in df.iterrows():\n",
    "        ws.append(row.tolist())\n",
    "    now = datetime.now()\n",
    "    excel_name = f\"{os.path.splitext(csv_file)[0]}_{now.strftime('%Y%m%d%H%M%S')}.xlsx\"\n",
    "    excel_path = os.path.join(excel_folder, excel_name)\n",
    "    wb.save(excel_path)\n",
    "    \n",
    "    print(f\"Archivo {csv_file} transformado y guardado como {excel_name}\")\n"
   ]
  }
 ],
 "metadata": {
  "kernelspec": {
   "display_name": "Python 3",
   "language": "python",
   "name": "python3"
  },
  "language_info": {
   "codemirror_mode": {
    "name": "ipython",
    "version": 3
   },
   "file_extension": ".py",
   "mimetype": "text/x-python",
   "name": "python",
   "nbconvert_exporter": "python",
   "pygments_lexer": "ipython3",
   "version": "3.11.0"
  },
  "orig_nbformat": 4
 },
 "nbformat": 4,
 "nbformat_minor": 2
}
